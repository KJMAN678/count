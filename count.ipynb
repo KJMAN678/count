{
 "cells": [
  {
   "cell_type": "code",
   "execution_count": 1,
   "id": "0dedd50a-687d-402c-b430-798e3e251b0d",
   "metadata": {},
   "outputs": [],
   "source": [
    "import collections\n",
    "import pandas as pd\n",
    "import random\n",
    "import time"
   ]
  },
  {
   "cell_type": "markdown",
   "id": "e014c9c0-dd70-44cd-8c48-a4b05b206fc0",
   "metadata": {},
   "source": [
    "## シード値の固定"
   ]
  },
  {
   "cell_type": "code",
   "execution_count": 2,
   "id": "94148508-1787-47b5-ac14-11a36b928f8c",
   "metadata": {},
   "outputs": [],
   "source": [
    "random.seed(42)"
   ]
  },
  {
   "cell_type": "markdown",
   "id": "5fc576ea-48d9-4841-9216-6f7d47086eb8",
   "metadata": {},
   "source": [
    "## ランダムな数値のリストを作成"
   ]
  },
  {
   "cell_type": "code",
   "execution_count": 3,
   "id": "d8be9dec-7df8-447d-bc77-83475ab11213",
   "metadata": {},
   "outputs": [],
   "source": [
    "hoge_list = [random.randint(0, 9999) for i in range(200000000)]"
   ]
  },
  {
   "cell_type": "markdown",
   "id": "92ab9ce9-acd5-456c-8d09-8c052bd53e75",
   "metadata": {},
   "source": [
    "## corrections でユニーク値のカウントを集計"
   ]
  },
  {
   "cell_type": "code",
   "execution_count": 6,
   "id": "44b9da06-5c25-4483-92e8-8f5963f13f7c",
   "metadata": {},
   "outputs": [
    {
     "name": "stdout",
     "output_type": "stream",
     "text": [
      "[(9427, 20501), (6629, 20482), (5215, 20475)]\n",
      "[(3637, 19523), (4647, 19505), (3036, 19420)]\n",
      "elapsed_time:8.4[sec]\n"
     ]
    }
   ],
   "source": [
    "start = time.time()\n",
    "\n",
    "c1 = collections.Counter(hoge_list)\n",
    "\n",
    "print(c1.most_common()[:3])\n",
    "print(c1.most_common()[-3:])\n",
    "\n",
    "print(f\"elapsed_time:{round((time.time() - start), 1)}[sec]\")"
   ]
  },
  {
   "cell_type": "markdown",
   "id": "ea118140-6eb8-4d52-9598-8059c7fcb37b",
   "metadata": {},
   "source": [
    "## pandas の value_counts() でユニーク値のカウントを集計"
   ]
  },
  {
   "cell_type": "code",
   "execution_count": 7,
   "id": "d27aacd2-1069-4dbb-b218-5869325f7705",
   "metadata": {},
   "outputs": [
    {
     "name": "stdout",
     "output_type": "stream",
     "text": [
      "9427    20501\n",
      "6629    20482\n",
      "5215    20475\n",
      "dtype: int64\n",
      "3637    19523\n",
      "4647    19505\n",
      "3036    19420\n",
      "dtype: int64\n",
      "elapsed_time:20.5[sec]\n"
     ]
    }
   ],
   "source": [
    "start = time.time()\n",
    "\n",
    "c2 = pd.DataFrame(hoge_list).value_counts()\n",
    "\n",
    "print(c2.iloc[:3])\n",
    "print(c2.iloc[-3:])\n",
    "\n",
    "print(f\"elapsed_time:{round((time.time() - start), 1)}[sec]\")"
   ]
  },
  {
   "cell_type": "code",
   "execution_count": null,
   "id": "86ca2aab-cecd-43c9-8ab8-2d0774104366",
   "metadata": {},
   "outputs": [],
   "source": []
  }
 ],
 "metadata": {
  "kernelspec": {
   "display_name": "Python 3 (ipykernel)",
   "language": "python",
   "name": "python3"
  },
  "language_info": {
   "codemirror_mode": {
    "name": "ipython",
    "version": 3
   },
   "file_extension": ".py",
   "mimetype": "text/x-python",
   "name": "python",
   "nbconvert_exporter": "python",
   "pygments_lexer": "ipython3",
   "version": "3.9.7"
  }
 },
 "nbformat": 4,
 "nbformat_minor": 5
}
